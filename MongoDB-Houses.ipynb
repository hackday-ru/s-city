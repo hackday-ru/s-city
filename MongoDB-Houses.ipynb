{
 "cells": [
  {
   "cell_type": "code",
   "execution_count": null,
   "metadata": {
    "collapsed": false
   },
   "outputs": [],
   "source": [
    "import pymongo\n",
    "from pymongo import MongoClient\n",
    "from bson import SON\n",
    "\n",
    "from IPython.html.widgets import FloatProgress\n",
    "from IPython.display import display"
   ]
  },
  {
   "cell_type": "code",
   "execution_count": null,
   "metadata": {
    "collapsed": true
   },
   "outputs": [],
   "source": [
    "client = MongoClient()\n",
    "db = client['gplaces']\n",
    "houses_geojson = db['houses_geojson']"
   ]
  },
  {
   "cell_type": "code",
   "execution_count": 48,
   "metadata": {
    "collapsed": false
   },
   "outputs": [],
   "source": [
    "import pandas as pd\n",
    "from pandas import DataFrame\n",
    "\n",
    "houses_location = pd.read_csv('/root/Downloads/houses_data_loc(1).csv').drop_duplicates(subset='adress')\n",
    "houses_data = pd.read_csv('/root/hack/Хакатон/Технико-экономические паспорта многоквартирных домов/Данные.csv')\n",
    "\n",
    "types_houses = 'Год постройки,Общая площадь здания,Число этажей,Количество проживающих,Аварийность дома'.split(',')\n",
    "\n",
    "for i,loc in houses_location.iterrows():\n",
    "    newField = {'loc':{ 'type': \"Point\",'coordinates': [loc['lat'], loc['lng']]}}\n",
    "    newField['adress'] = loc['adress']\n",
    "    \n",
    "    loc_id = loc['id']\n",
    "    house = houses_data.loc[[loc_id]]\n",
    "    \n",
    "    newField['year_of_construction'] = house['Год постройки'].values[0]\n",
    "    newField['building_area'] = house['Общая площадь здания'].values[0]\n",
    "    newField['floor_number'] = house['Число этажей'].values[0]\n",
    "    newField['people_living'] = house['Количество проживающих'].values[0]\n",
    "    newField['emergency_building'] = house['Аварийность дома'].values[0]\n",
    "    \n",
    "    houses_geojson.insert_one(newField)"
   ]
  },
  {
   "cell_type": "code",
   "execution_count": 50,
   "metadata": {
    "collapsed": false
   },
   "outputs": [
    {
     "data": {
      "text/plain": [
       "{'_id': ObjectId('57131c1d6fe8b9424a01f4d6'),\n",
       " 'adress': 'Санкт-Петербург Лени Голикова ул. д. 23',\n",
       " 'building_area': 3601.44995117,\n",
       " 'emergency_building': 0.0,\n",
       " 'floor_number': 5.0,\n",
       " 'loc': {'coordinates': [59.844715, 30.229946], 'type': 'Point'},\n",
       " 'people_living': 213.0,\n",
       " 'year_of_construction': '1967'}"
      ]
     },
     "execution_count": 50,
     "metadata": {},
     "output_type": "execute_result"
    }
   ],
   "source": [
    "houses_geojson.find_one()"
   ]
  },
  {
   "cell_type": "code",
   "execution_count": 53,
   "metadata": {
    "collapsed": false
   },
   "outputs": [],
   "source": [
    "#DUMP\n",
    "\n",
    "import json\n",
    "from bson.json_util import dumps\n",
    "\n",
    "json_data = list()\n",
    "\n",
    "for item in houses_geojson.find():\n",
    "    item_dict = dict()\n",
    "    item_dict['lng'] = item['loc']['coordinates'][0]\n",
    "    item_dict['lat'] = item['loc']['coordinates'][1]\n",
    "    item_dict['count'] = item['people_living'] if item['people_living']>0 else 1\n",
    "    json_data.extend([item_dict])\n",
    "\n",
    "\n",
    "with open('data_people_living.json', 'w') as fp:\n",
    "    json.dump(json_data, fp)\n",
    "\n",
    "#with open('data_100.json', 'w') as outfile:\n",
    "#    json.dump(dumps(places_geojson.find().limit(100)), outfile)"
   ]
  },
  {
   "cell_type": "raw",
   "metadata": {
    "collapsed": false
   },
   "source": [
    "places_geojson.remove({})"
   ]
  },
  {
   "cell_type": "raw",
   "metadata": {
    "collapsed": false
   },
   "source": [
    "places_geojson.insert_one(\n",
    "   {\n",
    "      'loc' : { 'type': \"Point\", 'coordinates': [ -73.97, 40.72 ] },\n",
    "      'name': \"Central Park2\",\n",
    "      'category' : \"Parks\"\n",
    "   })"
   ]
  },
  {
   "cell_type": "code",
   "execution_count": 30,
   "metadata": {
    "collapsed": false
   },
   "outputs": [
    {
     "data": {
      "text/plain": [
       "'loc_2dsphere'"
      ]
     },
     "execution_count": 30,
     "metadata": {},
     "output_type": "execute_result"
    }
   ],
   "source": [
    "houses_geojson.create_index([('loc' , pymongo.GEOSPHERE)])"
   ]
  },
  {
   "cell_type": "code",
   "execution_count": 49,
   "metadata": {
    "collapsed": false
   },
   "outputs": [
    {
     "name": "stdout",
     "output_type": "stream",
     "text": [
      "{'people_living': nan, 'loc': {'type': 'Point', 'coordinates': [59.83737379999999, 30.2303583]}, 'floor_number': 17.0, 'building_area': 15627.799804700002, 'dist': 469.87768996673276, 'emergency_building': 0.0, 'year_of_construction': '2008', 'adress': 'Санкт-Петербург Ветеранов пр. д. 75', '_id': ObjectId('57131c3d6fe8b9424a021ee7')}\n",
      "{'people_living': 208.0, 'loc': {'type': 'Point', 'coordinates': [59.837202100000006, 30.2299536]}, 'floor_number': 5.0, 'building_area': 3541.51000977, 'dist': 471.3831910879965, 'emergency_building': 0.0, 'year_of_construction': '1967', 'adress': 'Санкт-Петербург Ветеранов пр. д. 67', '_id': ObjectId('57131c206fe8b9424a01f892')}\n",
      "{'people_living': 171.0, 'loc': {'type': 'Point', 'coordinates': [59.837202100000006, 30.2299536]}, 'floor_number': 9.0, 'building_area': 2393.34008789, 'dist': 471.3831910879965, 'emergency_building': 0.0, 'year_of_construction': '1968', 'adress': 'Санкт-Петербург Ветеранов пр. д. 71', '_id': ObjectId('57131c206fe8b9424a01f896')}\n",
      "{'people_living': 395.0, 'loc': {'type': 'Point', 'coordinates': [59.828701699999996, 30.2290826]}, 'floor_number': 5.0, 'building_area': 7069.16992188, 'dist': 488.87678593370526, 'emergency_building': 0.0, 'year_of_construction': '1969', 'adress': 'Санкт-Петербург Козлова ул. д. 49', '_id': ObjectId('57131c1e6fe8b9424a01f5b6')}\n",
      "{'people_living': 345.0, 'loc': {'type': 'Point', 'coordinates': [59.82930750000001, 30.228474600000006]}, 'floor_number': 5.0, 'building_area': 7483.02978516, 'dist': 491.41293353408406, 'emergency_building': 0.0, 'year_of_construction': '1969', 'adress': 'Санкт-Петербург Козлова ул. д. 51', '_id': ObjectId('57131c326fe8b9424a021006')}\n",
      "{'people_living': 156.0, 'loc': {'type': 'Point', 'coordinates': [59.8298172, 30.227963899999995]}, 'floor_number': 5.0, 'building_area': 3016.0, 'dist': 505.82128566914486, 'emergency_building': 0.0, 'year_of_construction': '1968', 'adress': 'Санкт-Петербург Козлова ул. д. 45', '_id': ObjectId('57131c256fe8b9424a01fe17')}\n",
      "{'people_living': nan, 'loc': {'type': 'Point', 'coordinates': [59.837936, 30.2303397]}, 'floor_number': 17.0, 'building_area': 8621.70019531, 'dist': 521.9114032702231, 'emergency_building': 0.0, 'year_of_construction': '2007', 'adress': 'Санкт-Петербург Ветеранов пр. д. 73', '_id': ObjectId('57131c4a6fe8b9424a022fca')}\n",
      "{'people_living': 165.0, 'loc': {'type': 'Point', 'coordinates': [59.8304816, 30.227286300000003]}, 'floor_number': 5.0, 'building_area': 3016.0, 'dist': 541.123224853432, 'emergency_building': 0.0, 'year_of_construction': '1968', 'adress': 'Санкт-Петербург Козлова ул. д. 43', '_id': ObjectId('57131c1e6fe8b9424a01f5d0')}\n"
     ]
    }
   ],
   "source": [
    "\n",
    "result = houses_geojson.aggregate([\n",
    "   {\n",
    "     '$geoNear': {\n",
    "        'near': { 'type': \"Point\", 'coordinates': [59.83275469999999, 30.2317329] },\n",
    "        'distanceField': \"dist\",\n",
    "        'maxDistance': 550,\n",
    "        'spherical': True\n",
    "     }\n",
    "   }\n",
    "])\n",
    "\n",
    "\n",
    "for i,item in enumerate(result):\n",
    "    print(item)\n",
    "    if i > 20:\n",
    "        break"
   ]
  }
 ],
 "metadata": {
  "kernelspec": {
   "display_name": "Python 3",
   "language": "python",
   "name": "python3"
  },
  "language_info": {
   "codemirror_mode": {
    "name": "ipython",
    "version": 3
   },
   "file_extension": ".py",
   "mimetype": "text/x-python",
   "name": "python",
   "nbconvert_exporter": "python",
   "pygments_lexer": "ipython3",
   "version": "3.5.1"
  }
 },
 "nbformat": 4,
 "nbformat_minor": 0
}
