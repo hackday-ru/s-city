{
 "cells": [
  {
   "cell_type": "code",
   "execution_count": null,
   "metadata": {
    "collapsed": false
   },
   "outputs": [],
   "source": [
    "import pymongo\n",
    "from pymongo import MongoClient\n",
    "from bson import SON\n",
    "\n",
    "from IPython.html.widgets import FloatProgress\n",
    "from IPython.display import display"
   ]
  },
  {
   "cell_type": "code",
   "execution_count": null,
   "metadata": {
    "collapsed": true
   },
   "outputs": [],
   "source": [
    "client = MongoClient()\n",
    "db = client['gplaces']\n",
    "placesColl = db['places']\n",
    "places_geojson = db['places_geojson']"
   ]
  },
  {
   "cell_type": "code",
   "execution_count": 168,
   "metadata": {
    "collapsed": false,
    "scrolled": false
   },
   "outputs": [],
   "source": [
    "#types = 'name,rating,types,user_ratings_total'\n",
    "for locTemp in placesColl.find():\n",
    "    newField = {'loc':{ 'type': \"Point\",'coordinates': [locTemp['geometry']['location']['lat'], locTemp['geometry']['location']['lng']]}}\n",
    "    \n",
    "    if 'name' in locTemp:\n",
    "        newField['name'] = locTemp['name']\n",
    "    \n",
    "    if 'rating' in locTemp:\n",
    "        newField['rating'] = locTemp['rating']\n",
    "        \n",
    "    if 'user_ratings_total' in locTemp:\n",
    "        newField['user_ratings_total'] = locTemp['user_ratings_total']\n",
    "        \n",
    "    if 'types' in locTemp:\n",
    "        newField['types'] = locTemp['types']\n",
    "\n",
    "    places_geojson.insert_one(newField)"
   ]
  },
  {
   "cell_type": "code",
   "execution_count": 182,
   "metadata": {
    "collapsed": false
   },
   "outputs": [
    {
     "data": {
      "text/plain": [
       "{'_id': ObjectId('571277bf6fe8b929a346aa56'),\n",
       " 'loc': {'coordinates': [59.83275469999999, 30.2317329], 'type': 'Point'},\n",
       " 'name': 'Александрино',\n",
       " 'rating': 4.4,\n",
       " 'types': ['park', 'point_of_interest', 'establishment'],\n",
       " 'user_ratings_total': 47}"
      ]
     },
     "execution_count": 182,
     "metadata": {},
     "output_type": "execute_result"
    }
   ],
   "source": [
    "places_geojson.find_one()"
   ]
  },
  {
   "cell_type": "code",
   "execution_count": 201,
   "metadata": {
    "collapsed": false
   },
   "outputs": [],
   "source": [
    "#DUMP\n",
    "\n",
    "import json\n",
    "from bson.json_util import dumps\n",
    "\n",
    "json_data = list()\n",
    "\n",
    "for item in places_geojson.find().limit(30000):\n",
    "    item_dict = dict()\n",
    "    item_dict['lng'] = item['loc']['coordinates'][0]\n",
    "    item_dict['lat'] = item['loc']['coordinates'][1]\n",
    "    item_dict['count'] = 1\n",
    "    json_data.extend([item_dict])\n",
    "\n",
    "\n",
    "with open('data_100_2.json', 'w') as fp:\n",
    "    json.dump(json_data, fp)\n",
    "    \n",
    "#with open('data_100.json', 'w') as outfile:\n",
    "#    json.dump(dumps(places_geojson.find().limit(100)), outfile)"
   ]
  },
  {
   "cell_type": "code",
   "execution_count": null,
   "metadata": {
    "collapsed": false
   },
   "outputs": [],
   "source": [
    "places_geojson.remove({})"
   ]
  },
  {
   "cell_type": "raw",
   "metadata": {
    "collapsed": false
   },
   "source": [
    "places_geojson.insert_one(\n",
    "   {\n",
    "      'loc' : { 'type': \"Point\", 'coordinates': [ -73.97, 40.72 ] },\n",
    "      'name': \"Central Park2\",\n",
    "      'category' : \"Parks\"\n",
    "   })"
   ]
  },
  {
   "cell_type": "code",
   "execution_count": null,
   "metadata": {
    "collapsed": false
   },
   "outputs": [],
   "source": [
    "places_geojson.create_index([('loc' , pymongo.GEOSPHERE)])"
   ]
  },
  {
   "cell_type": "code",
   "execution_count": 200,
   "metadata": {
    "collapsed": false
   },
   "outputs": [
    {
     "name": "stdout",
     "output_type": "stream",
     "text": [
      "{'_id': ObjectId('571277bf6fe8b929a346aa56'), 'user_ratings_total': 47, 'loc': {'type': 'Point', 'coordinates': [59.83275469999999, 30.2317329]}, 'types': ['park', 'point_of_interest', 'establishment'], 'name': 'Александрино', 'dist': 0.0, 'rating': 4.4}\n",
      "{'loc': {'type': 'Point', 'coordinates': [59.837781, 30.23042659999999]}, 'dist': 504.8250549746493, 'name': 'Zaprav.com, servis-tsentr', '_id': ObjectId('571277bf6fe8b929a346aa89'), 'types': ['point_of_interest', 'establishment']}\n",
      "{'_id': ObjectId('571277c16fe8b929a346b1bc'), 'user_ratings_total': 1, 'loc': {'type': 'Point', 'coordinates': [59.837781, 30.23042659999999]}, 'name': 'Hair`isma, salon krasoty', 'dist': 504.8250549746493, 'types': ['point_of_interest', 'establishment']}\n",
      "{'loc': {'type': 'Point', 'coordinates': [59.8380414, 30.23114229999999]}, 'dist': 512.7040482724618, 'name': 'Zolotaya Rybka', '_id': ObjectId('571277bf6fe8b929a346aa59'), 'types': ['pet_store', 'store', 'point_of_interest', 'establishment']}\n",
      "{'loc': {'type': 'Point', 'coordinates': [59.8380414, 30.23114229999999]}, 'dist': 512.7040482724618, 'name': 'ATP-3 \"rosavto\"', '_id': ObjectId('571277bf6fe8b929a346aa67'), 'types': ['car_repair', 'point_of_interest', 'establishment']}\n",
      "{'_id': ObjectId('571277bf6fe8b929a346aa66'), 'user_ratings_total': 4, 'loc': {'type': 'Point', 'coordinates': [59.8380414, 30.23114229999999]}, 'name': 'Modnitsa', 'dist': 512.7040482724618, 'types': ['home_goods_store', 'store', 'point_of_interest', 'establishment']}\n",
      "{'loc': {'type': 'Point', 'coordinates': [59.8380414, 30.23114229999999]}, 'dist': 512.7040482724618, 'name': '№4 Ovirug', '_id': ObjectId('571277c16fe8b929a346b1c0'), 'types': ['establishment']}\n",
      "{'loc': {'type': 'Point', 'coordinates': [59.8380414, 30.23114229999999]}, 'dist': 512.7040482724618, 'name': 'Zhilkomservis №1 ZhES №3', '_id': ObjectId('571277c16fe8b929a346b1b7'), 'types': ['establishment']}\n",
      "{'loc': {'type': 'Point', 'coordinates': [59.8380414, 30.23114229999999]}, 'dist': 512.7040482724618, 'name': 'Funny Frog', '_id': ObjectId('571277bf6fe8b929a346aa65'), 'types': ['establishment']}\n",
      "{'loc': {'type': 'Point', 'coordinates': [59.8380414, 30.23114229999999]}, 'dist': 512.7040482724618, 'name': 'Rotterdam', '_id': ObjectId('571277c16fe8b929a346b1b0'), 'types': ['night_club', 'point_of_interest', 'establishment']}\n",
      "{'loc': {'type': 'Point', 'coordinates': [59.8380414, 30.23114229999999]}, 'dist': 512.7040482724618, 'name': 'Otdely Vseleniya I Registratsionnogo Ucheta Grazhdan Sankt-peterburga, Otdel №4', '_id': ObjectId('571277bf6fe8b929a346aa85'), 'types': ['point_of_interest', 'establishment']}\n",
      "{'_id': ObjectId('571277bf6fe8b929a346aa58'), 'user_ratings_total': 1, 'loc': {'type': 'Point', 'coordinates': [59.8380414, 30.23114229999999]}, 'name': 'Munitsipalnyy okrug \"Dachnoye\"', 'dist': 512.7040482724618, 'types': ['local_government_office', 'point_of_interest', 'establishment']}\n",
      "{'_id': ObjectId('571277bf6fe8b929a346aa64'), 'user_ratings_total': 11, 'loc': {'type': 'Point', 'coordinates': [59.8380414, 30.23114229999999]}, 'types': ['restaurant', 'food', 'bar', 'point_of_interest', 'establishment'], 'name': 'Pab Laybrari', 'dist': 512.7040482724618, 'rating': 3.9}\n",
      "{'loc': {'type': 'Point', 'coordinates': [59.8380414, 30.23114229999999]}, 'dist': 512.7040482724618, 'name': 'Parikmakherskaya', '_id': ObjectId('571277bf6fe8b929a346aa73'), 'types': ['health', 'hair_care', 'point_of_interest', 'establishment']}\n",
      "{'_id': ObjectId('571277bf6fe8b929a346aa71'), 'user_ratings_total': 3, 'loc': {'type': 'Point', 'coordinates': [59.8380414, 30.23114229999999]}, 'name': \"Byt' Dobru, Kafe\", 'dist': 512.7040482724618, 'types': ['cafe', 'food', 'point_of_interest', 'establishment']}\n",
      "{'loc': {'type': 'Point', 'coordinates': [59.83812229999999, 30.2313746]}, 'dist': 517.7900674582762, 'name': 'Komissionnyy magazin na prospekte Veteranov', '_id': ObjectId('571277c16fe8b929a346b1b1'), 'types': ['book_store', 'furniture_store', 'home_goods_store', 'store', 'point_of_interest', 'establishment']}\n",
      "{'loc': {'type': 'Point', 'coordinates': [59.837917, 30.23031199999999]}, 'dist': 521.0945624802835, 'name': 'Svetlanin Dom', '_id': ObjectId('571277bf6fe8b929a346aa7e'), 'types': ['point_of_interest', 'establishment']}\n",
      "{'loc': {'type': 'Point', 'coordinates': [59.837917, 30.23031199999999]}, 'dist': 521.0945624802835, 'name': 'VALMAKS-STROY, montazhno-remontnaya kompaniya', '_id': ObjectId('571277c16fe8b929a346b1a9'), 'types': ['point_of_interest', 'establishment']}\n",
      "{'loc': {'type': 'Point', 'coordinates': [59.837936, 30.23033969999999]}, 'dist': 521.9114032704819, 'name': 'Грандсофт - пограммы для 3D проектирования и дизайна', '_id': ObjectId('571277c16fe8b929a346b1aa'), 'types': ['point_of_interest', 'establishment']}\n",
      "{'loc': {'type': 'Point', 'coordinates': [59.83755689999999, 30.2295409]}, 'dist': 522.3704718295578, 'name': 'Petrolayn, Mebelnyy Magazin', '_id': ObjectId('571277c16fe8b929a346b1b2'), 'types': ['furniture_store', 'home_goods_store', 'store', 'point_of_interest', 'establishment']}\n",
      "{'loc': {'type': 'Point', 'coordinates': [59.83755689999999, 30.2295409]}, 'dist': 522.3704718295578, 'name': 'Kareks-Tsentr, OOO, torgovo-servisnaya kompaniya', '_id': ObjectId('571277bf6fe8b929a346aa90'), 'types': ['point_of_interest', 'establishment']}\n",
      "{'_id': ObjectId('571277bf6fe8b929a346aa7b'), 'user_ratings_total': 1, 'loc': {'type': 'Point', 'coordinates': [59.83755689999999, 30.2295409]}, 'name': 'Fantaziya, salon krasoty', 'dist': 522.3704718295578, 'types': ['point_of_interest', 'establishment']}\n"
     ]
    }
   ],
   "source": [
    "result = places_geojson.aggregate([\n",
    "   {\n",
    "     '$geoNear': {\n",
    "        'near': { 'type': \"Point\", 'coordinates': [59.83275469999999, 30.2317329] },\n",
    "        'distanceField': \"dist\",\n",
    "        'maxDistance': 550,\n",
    "        'spherical': True\n",
    "     }\n",
    "   }\n",
    "])\n",
    "\n",
    "\n",
    "for i,item in enumerate(result):\n",
    "    print(item)\n",
    "    if i > 20:\n",
    "        break"
   ]
  }
 ],
 "metadata": {
  "kernelspec": {
   "display_name": "Python 3",
   "language": "python",
   "name": "python3"
  },
  "language_info": {
   "codemirror_mode": {
    "name": "ipython",
    "version": 3
   },
   "file_extension": ".py",
   "mimetype": "text/x-python",
   "name": "python",
   "nbconvert_exporter": "python",
   "pygments_lexer": "ipython3",
   "version": "3.5.1"
  }
 },
 "nbformat": 4,
 "nbformat_minor": 0
}
